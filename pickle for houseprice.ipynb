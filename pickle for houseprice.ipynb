{
 "cells": [
  {
   "cell_type": "raw",
   "id": "8af62e78-4442-4d8d-992b-f07f0e2b700b",
   "metadata": {},
   "source": []
  },
  {
   "cell_type": "code",
   "execution_count": 4,
   "id": "6bae0816-fde3-4615-922d-0871c8c5f516",
   "metadata": {},
   "outputs": [],
   "source": [
    "import pandas as pd \n",
    "m=pd.read_pickle('houseprice.pkl')"
   ]
  },
  {
   "cell_type": "code",
   "execution_count": 9,
   "id": "cf2abfeb-44e4-457d-b6b9-ca02ac300fd9",
   "metadata": {},
   "outputs": [
    {
     "data": {
      "text/plain": [
       "1280649.6971612736"
      ]
     },
     "execution_count": 9,
     "metadata": {},
     "output_type": "execute_result"
    }
   ],
   "source": [
    "m.predict([(70000,5,8,40000)])[0]"
   ]
  },
  {
   "cell_type": "code",
   "execution_count": null,
   "id": "8e6a08e0-721f-4f6b-922c-87bd2d7f40fe",
   "metadata": {},
   "outputs": [],
   "source": []
  }
 ],
 "metadata": {
  "kernelspec": {
   "display_name": "Python 3",
   "language": "python",
   "name": "python3"
  },
  "language_info": {
   "codemirror_mode": {
    "name": "ipython",
    "version": 3
   },
   "file_extension": ".py",
   "mimetype": "text/x-python",
   "name": "python",
   "nbconvert_exporter": "python",
   "pygments_lexer": "ipython3",
   "version": "3.8.8"
  }
 },
 "nbformat": 4,
 "nbformat_minor": 5
}
